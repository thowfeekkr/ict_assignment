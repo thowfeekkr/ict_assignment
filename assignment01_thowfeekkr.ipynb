{
  "nbformat": 4,
  "nbformat_minor": 0,
  "metadata": {
    "colab": {
      "provenance": [],
      "authorship_tag": "ABX9TyPJslN5vUGYrc3lQtzLKoPZ",
      "include_colab_link": true
    },
    "kernelspec": {
      "name": "python3",
      "display_name": "Python 3"
    },
    "language_info": {
      "name": "python"
    }
  },
  "cells": [
    {
      "cell_type": "markdown",
      "metadata": {
        "id": "view-in-github",
        "colab_type": "text"
      },
      "source": [
        "<a href=\"https://colab.research.google.com/github/thowfeekkr/ict_assignment/blob/main/assignment01_thowfeekkr.ipynb\" target=\"_parent\"><img src=\"https://colab.research.google.com/assets/colab-badge.svg\" alt=\"Open In Colab\"/></a>"
      ]
    },
    {
      "cell_type": "markdown",
      "source": [
        "#ASSINGMENT 01"
      ],
      "metadata": {
        "id": "f9r7GcaXPVdA"
      }
    },
    {
      "cell_type": "markdown",
      "source": [
        "1.Grocery Billing"
      ],
      "metadata": {
        "id": "Liq0W-5ZhP1r"
      }
    },
    {
      "cell_type": "code",
      "source": [
        "item1_price = int (input(' item-1 price: '))\n",
        "item1_quantity =int (input( 'quantity of item1: '))\n",
        "item2_price =int (input(' item-2 price: '))\n",
        "item2_quantity =int (input('quantity of item2: '))\n",
        "total_bil=(item1_price * item1_quantity)+(item2_price * item2_quantity)\n",
        "print(\"total bill\",float(total_bil))\n"
      ],
      "metadata": {
        "colab": {
          "base_uri": "https://localhost:8080/"
        },
        "id": "a4CSunb-XgOG",
        "outputId": "367c0eaf-6747-46b9-b87d-bb91062fd554"
      },
      "execution_count": null,
      "outputs": [
        {
          "output_type": "stream",
          "name": "stdout",
          "text": [
            " item-1 price: 300\n",
            "quantity of item1: 2\n",
            " item-2 price: 600\n",
            "quantity of item2: 1\n",
            "total bill 1200.0\n"
          ]
        }
      ]
    },
    {
      "cell_type": "markdown",
      "source": [
        "2.Temperature Conversion\n"
      ],
      "metadata": {
        "id": "VxsBfQfd2vnh"
      }
    },
    {
      "cell_type": "code",
      "source": [
        "C =float(input('Enter temperature in Celsius: '))\n",
        "F=(C * (9/5)) + (32)\n",
        "print('Temperature in Fahrenheit= :',F)"
      ],
      "metadata": {
        "id": "9q6QqgESiAXs",
        "colab": {
          "base_uri": "https://localhost:8080/"
        },
        "outputId": "f0439e20-537e-429c-e863-3ab17e569e56"
      },
      "execution_count": null,
      "outputs": [
        {
          "output_type": "stream",
          "name": "stdout",
          "text": [
            "Enter temperature in Celsius: 0\n",
            "Temperature in Fahrenheit= : 32.0\n"
          ]
        }
      ]
    },
    {
      "cell_type": "markdown",
      "source": [
        "3.Salary Slip\n"
      ],
      "metadata": {
        "id": "gAI2cr0Y4t14"
      }
    },
    {
      "cell_type": "code",
      "source": [
        "salary = int(input('Enter basic salary: '))\n",
        "HAR = float((salary*20)/100)\n",
        "DA=float((salary*10)/100)\n",
        "Net_salary = salary+HAR+DA\n",
        "print('Net salary=',Net_salary )"
      ],
      "metadata": {
        "colab": {
          "base_uri": "https://localhost:8080/"
        },
        "id": "pZcHMNJL3wWx",
        "outputId": "47fa66eb-b6ed-4fc0-8fa7-3e8bea605c9d"
      },
      "execution_count": null,
      "outputs": [
        {
          "output_type": "stream",
          "name": "stdout",
          "text": [
            "Enter basic salary: 10000\n",
            "Net salary= 13000.0\n"
          ]
        }
      ]
    },
    {
      "cell_type": "markdown",
      "source": [
        "4.Simple Interest"
      ],
      "metadata": {
        "id": "4HTmVev87tHu"
      }
    },
    {
      "cell_type": "code",
      "source": [
        "p = int(input('Enter the principle ammount: '))\n",
        "R = float(input(\"Enter the Rate of interest: \"))\n",
        "T = int(input('Enter the tenure: ' ))\n",
        "sl =((p*R*T)/100)\n",
        "print(\"simple interest= \",sl)"
      ],
      "metadata": {
        "colab": {
          "base_uri": "https://localhost:8080/"
        },
        "id": "hX4jCIkl6WnP",
        "outputId": "312faed9-ab88-49fe-812a-c276a33385b6"
      },
      "execution_count": null,
      "outputs": [
        {
          "output_type": "stream",
          "name": "stdout",
          "text": [
            "Enter the principle ammount: 10000\n",
            "Enter the Rate of interest: 5\n",
            "Enter the tenure: 2\n",
            "simple interest=  1000.0\n"
          ]
        }
      ]
    },
    {
      "cell_type": "markdown",
      "source": [
        "5.Time Conversion"
      ],
      "metadata": {
        "id": "FOcQw0489o5s"
      }
    },
    {
      "cell_type": "code",
      "source": [
        "total=int(input(\"enter the total min.: \"))\n",
        "h = int(total/60)\n",
        "m = float(total-(h*60))\n",
        "print(\"HOURS=\",h)\n",
        "print('minute=',m)"
      ],
      "metadata": {
        "colab": {
          "base_uri": "https://localhost:8080/"
        },
        "id": "vMh_gRjV832E",
        "outputId": "5c2164a7-7381-490a-aeae-f17f76c8354c"
      },
      "execution_count": null,
      "outputs": [
        {
          "output_type": "stream",
          "name": "stdout",
          "text": [
            "enter the total min.: 165\n",
            "HOURS= 2\n",
            "minute= 45.0\n"
          ]
        }
      ]
    },
    {
      "cell_type": "markdown",
      "source": [
        "6.BMI Calculator"
      ],
      "metadata": {
        "id": "UZSDJ8k3APbi"
      }
    },
    {
      "cell_type": "code",
      "source": [
        "w = float(input(\"enter the weight in kg: \") )\n",
        "h = float(input(\"enter the height in m: \" ))\n",
        "BIM = float(w/(h*h))\n",
        "print(\"BIM=\",BIM)"
      ],
      "metadata": {
        "colab": {
          "base_uri": "https://localhost:8080/"
        },
        "id": "e4TROH1e-c8T",
        "outputId": "21765a9e-fdb7-4827-f9df-f6158fd5df18"
      },
      "execution_count": null,
      "outputs": [
        {
          "output_type": "stream",
          "name": "stdout",
          "text": [
            "enter the weight in kg: 60\n",
            "enter the height in m: 1.65\n",
            "BIM= 22.03856749311295\n"
          ]
        }
      ]
    },
    {
      "cell_type": "markdown",
      "source": [
        "7.Discount Calculation"
      ],
      "metadata": {
        "id": "8iQ5g7RQBukh"
      }
    },
    {
      "cell_type": "code",
      "source": [
        "og_p= int(input(\"enter the orginal price:\"))\n",
        "dis = og_p-((og_p*10)/100)\n",
        "print('Discounted Price=: ',dis)"
      ],
      "metadata": {
        "colab": {
          "base_uri": "https://localhost:8080/"
        },
        "id": "3i-Ka4-nBjYQ",
        "outputId": "ead4a15f-f644-4f82-d2fe-fdb84ef9f2fe"
      },
      "execution_count": null,
      "outputs": [
        {
          "output_type": "stream",
          "name": "stdout",
          "text": [
            "enter the orginal price:1000\n",
            "Discounted Price=:  900.0\n"
          ]
        }
      ]
    },
    {
      "cell_type": "markdown",
      "source": [
        "8.Area of a Triangle (Using Heron’s Formula)\n"
      ],
      "metadata": {
        "id": "ek-gxPjtFeBt"
      }
    },
    {
      "cell_type": "code",
      "source": [
        "a =float(input('enter the side a:'))\n",
        "b = float(input('enter the side b:'))\n",
        "c = float(input('enter the side c:'))\n",
        "s = float((a+b+c)/2)\n",
        "import math\n",
        "a =math.sqrt(s*(s-a)*(s-b)*(s-c))\n",
        "print('Area of the triangle=', a)\n"
      ],
      "metadata": {
        "colab": {
          "base_uri": "https://localhost:8080/"
        },
        "id": "N-HqWvr5CtWQ",
        "outputId": "131f0572-3e2b-4ef5-bb1f-6de635d4e200"
      },
      "execution_count": null,
      "outputs": [
        {
          "output_type": "stream",
          "name": "stdout",
          "text": [
            "enter the side a:5\n",
            "enter the side b:6\n",
            "enter the side c:7\n",
            "Area of the triangle= 14.696938456699069\n"
          ]
        }
      ]
    },
    {
      "cell_type": "markdown",
      "source": [
        "9.Paint Cost Estimator"
      ],
      "metadata": {
        "id": "moaAqz56Fb0O"
      }
    },
    {
      "cell_type": "code",
      "source": [
        "l=int(input(\"enter the wall length (m): \"))\n",
        "h=int(input(\"enter the wall height(m): \"))\n",
        "a1=l*h\n",
        "a = a1-(2*(1.5*1.2))\n",
        "print(\"Total area to be painted= \",a)\n",
        "c = a*25\n",
        "print(\"Total painting cost=\",c)"
      ],
      "metadata": {
        "colab": {
          "base_uri": "https://localhost:8080/"
        },
        "id": "EUeeTpzFCkGn",
        "outputId": "3dfbc71f-b360-4946-fae4-88262cf53395"
      },
      "execution_count": null,
      "outputs": [
        {
          "output_type": "stream",
          "name": "stdout",
          "text": [
            "enter the wall length (m): 12\n",
            "enter the wall height(m): 8\n",
            "Total area to be painted=  92.4\n",
            "Total painting cost= 2310.0\n"
          ]
        }
      ]
    },
    {
      "cell_type": "markdown",
      "source": [
        "10.Electricity Bill Calculator"
      ],
      "metadata": {
        "id": "DQ2X9SZzHdR1"
      }
    },
    {
      "cell_type": "code",
      "source": [
        "uc = int(input(\"Enter number of units consumed: \"))\n",
        "eb =float((uc*5.2)+100)\n",
        "print('Electricity Bill=',eb)"
      ],
      "metadata": {
        "colab": {
          "base_uri": "https://localhost:8080/"
        },
        "id": "p8j10M5JHK3E",
        "outputId": "a6239c8d-88fa-4fa2-a033-c5ee9c009195"
      },
      "execution_count": null,
      "outputs": [
        {
          "output_type": "stream",
          "name": "stdout",
          "text": [
            "Enter number of units consumed: 250\n",
            "Electricity Bill= 1400.0\n"
          ]
        }
      ]
    },
    {
      "cell_type": "code",
      "source": [],
      "metadata": {
        "id": "8SPm2guYIJMz"
      },
      "execution_count": null,
      "outputs": []
    }
  ]
}
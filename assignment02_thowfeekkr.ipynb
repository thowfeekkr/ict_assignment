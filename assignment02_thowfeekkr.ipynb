{
  "nbformat": 4,
  "nbformat_minor": 0,
  "metadata": {
    "colab": {
      "provenance": [],
      "authorship_tag": "ABX9TyN3Rqn7CDqboewswjMoQXLI",
      "include_colab_link": true
    },
    "kernelspec": {
      "name": "python3",
      "display_name": "Python 3"
    },
    "language_info": {
      "name": "python"
    }
  },
  "cells": [
    {
      "cell_type": "markdown",
      "metadata": {
        "id": "view-in-github",
        "colab_type": "text"
      },
      "source": [
        "<a href=\"https://colab.research.google.com/github/thowfeekkr/ict_assignment/blob/main/assignment02_thowfeekkr.ipynb\" target=\"_parent\"><img src=\"https://colab.research.google.com/assets/colab-badge.svg\" alt=\"Open In Colab\"/></a>"
      ]
    },
    {
      "cell_type": "markdown",
      "source": [
        "#Assignment **02**"
      ],
      "metadata": {
        "id": "hQaicOriADcx"
      }
    },
    {
      "cell_type": "markdown",
      "source": [
        "1. FizzBuzz"
      ],
      "metadata": {
        "id": "oihxp3qcAJMo"
      }
    },
    {
      "cell_type": "code",
      "execution_count": 15,
      "metadata": {
        "colab": {
          "base_uri": "https://localhost:8080/"
        },
        "id": "PGX2BLj__xzL",
        "outputId": "8253a261-6d2a-493b-b36c-d3289dbcca94"
      },
      "outputs": [
        {
          "output_type": "stream",
          "name": "stdout",
          "text": [
            "Enter a number between 1 to 100 : 55\n",
            "Buzz\n"
          ]
        }
      ],
      "source": [
        "\n",
        "n1 = int(input('Enter a number between 1 to 100 : '))\n",
        "if n1%3==0 and n1%5==0:\n",
        "  print('Fizzbuzz')\n",
        "elif n1%3==0:\n",
        "  print('Fizz')\n",
        "elif n1%5==0:\n",
        "  print('Buzz')\n",
        "else :\n",
        "  print(n1)\n"
      ]
    },
    {
      "cell_type": "markdown",
      "source": [
        "2. Electricity Bill calculator"
      ],
      "metadata": {
        "id": "S5HWgAjzHcdB"
      }
    },
    {
      "cell_type": "code",
      "source": [
        "\n",
        "u= int(input(\"Enter units consumed: \"))\n",
        "if u<=100:\n",
        " b1 =*5\n",
        " print('total bill ammount:',b1)\n",
        "elif 101<= u and u <= 200:\n",
        "\n",
        "   b2=u2*7\n",
        "else:\n",
        "  b3= u3*10\n",
        "  print('Total Bill Amount:',b1+b2+b3)\n",
        "\n"
      ],
      "metadata": {
        "colab": {
          "base_uri": "https://localhost:8080/"
        },
        "id": "_zlGcA0qCdFv",
        "outputId": "27c4040a-f129-4a8e-80eb-8a64e8e974fc"
      },
      "execution_count": 43,
      "outputs": [
        {
          "name": "stdout",
          "output_type": "stream",
          "text": [
            "Enter units consumed: 100\n"
          ]
        }
      ]
    },
    {
      "cell_type": "markdown",
      "source": [
        "3. Display a pattern for a simple progress indicator."
      ],
      "metadata": {
        "id": "KBSdc1dNJvS3"
      }
    },
    {
      "cell_type": "code",
      "source": [
        "for i in range(1,6):\n",
        "  print('*' * i)"
      ],
      "metadata": {
        "colab": {
          "base_uri": "https://localhost:8080/"
        },
        "id": "p1OeJTkVI6LI",
        "outputId": "aca28c84-abfa-4b5c-c4a1-fd1795a821f1"
      },
      "execution_count": 28,
      "outputs": [
        {
          "output_type": "stream",
          "name": "stdout",
          "text": [
            "*\n",
            "**\n",
            "***\n",
            "****\n",
            "*****\n"
          ]
        }
      ]
    },
    {
      "cell_type": "markdown",
      "source": [
        "4. Palindrome\n"
      ],
      "metadata": {
        "id": "G-HlHYi5KYku"
      }
    },
    {
      "cell_type": "code",
      "source": [
        "\n"
      ],
      "metadata": {
        "id": "Mpa2X9-gKGTO"
      },
      "execution_count": 28,
      "outputs": []
    }
  ]
}